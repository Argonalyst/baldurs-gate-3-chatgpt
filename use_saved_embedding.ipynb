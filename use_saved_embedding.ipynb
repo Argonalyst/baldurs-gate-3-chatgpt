{
 "cells": [
  {
   "cell_type": "code",
   "execution_count": null,
   "id": "28dc70d8",
   "metadata": {},
   "outputs": [],
   "source": [
    "chave_openai=\"<your_openai_key>\""
   ]
  },
  {
   "cell_type": "code",
   "execution_count": null,
   "id": "0ffcbb8f",
   "metadata": {},
   "outputs": [],
   "source": [
    "import os\n",
    "import pickle\n",
    "import pandas as pd\n",
    "from transformers import GPT2TokenizerFast\n",
    "from langchain.text_splitter import RecursiveCharacterTextSplitter\n",
    "from langchain.embeddings import OpenAIEmbeddings\n",
    "from langchain.vectorstores import FAISS\n",
    "from langchain.chains.question_answering import load_qa_chain\n",
    "from langchain.llms import OpenAI\n",
    "from langchain.chat_models import ChatOpenAI"
   ]
  },
  {
   "cell_type": "code",
   "execution_count": null,
   "id": "0c96d695",
   "metadata": {},
   "outputs": [],
   "source": [
    "# Load the embeddings from a file\n",
    "with open(\"embeddings.pkl\", \"rb\") as f:\n",
    "    db = pickle.load(f)"
   ]
  },
  {
   "cell_type": "code",
   "execution_count": null,
   "id": "94dd07fe",
   "metadata": {},
   "outputs": [],
   "source": [
    "query = \"What are the optimal attribute points if I'm playing as a fighter?\"\n",
    "docs = db.similarity_search(query)\n",
    "docs[0]"
   ]
  },
  {
   "cell_type": "code",
   "execution_count": null,
   "id": "054cee5c",
   "metadata": {},
   "outputs": [],
   "source": [
    "chain = load_qa_chain(ChatOpenAI(openai_api_key=chave_openai, temperature=0, model_name='gpt-3.5-turbo'), chain_type=\"stuff\")\n",
    "\n",
    "chain.run(input_documents=docs, question=query)"
   ]
  }
 ],
 "metadata": {
  "kernelspec": {
   "display_name": "Python 3 (ipykernel)",
   "language": "python",
   "name": "python3"
  },
  "language_info": {
   "codemirror_mode": {
    "name": "ipython",
    "version": 3
   },
   "file_extension": ".py",
   "mimetype": "text/x-python",
   "name": "python",
   "nbconvert_exporter": "python",
   "pygments_lexer": "ipython3",
   "version": "3.10.9"
  }
 },
 "nbformat": 4,
 "nbformat_minor": 5
}
